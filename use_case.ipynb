{
 "cells": [
  {
   "cell_type": "code",
   "execution_count": 1,
   "id": "b8bfe16b-da62-466d-afa0-2d9b2d5be976",
   "metadata": {
    "execution": {
     "iopub.execute_input": "2025-04-22T01:13:51.791885Z",
     "iopub.status.busy": "2025-04-22T01:13:51.789967Z",
     "iopub.status.idle": "2025-04-22T01:13:51.993836Z",
     "shell.execute_reply": "2025-04-22T01:13:51.991438Z",
     "shell.execute_reply.started": "2025-04-22T01:13:51.791790Z"
    },
    "tags": []
   },
   "outputs": [],
   "source": [
    "from kiwi_api_client import KiwiApiClient\n",
    "\n",
    "# replace your key here\n",
    "client = KiwiApiClient(\"replace the text to your API key\")"
   ]
  },
  {
   "cell_type": "code",
   "execution_count": 2,
   "id": "120948d7-cfe1-483e-b2fc-3cb7ebd7d1fd",
   "metadata": {
    "execution": {
     "iopub.execute_input": "2025-04-22T01:13:54.918541Z",
     "iopub.status.busy": "2025-04-22T01:13:54.917806Z",
     "iopub.status.idle": "2025-04-22T01:13:54.964039Z",
     "shell.execute_reply": "2025-04-22T01:13:54.961551Z",
     "shell.execute_reply.started": "2025-04-22T01:13:54.918486Z"
    },
    "tags": []
   },
   "outputs": [
    {
     "data": {
      "text/plain": [
       "{'usage_count': 46845,\n",
       " 'token_remain': 9953155,\n",
       " 'Expires_at': '2025-04-28 18:25:34'}"
      ]
     },
     "execution_count": 2,
     "metadata": {},
     "output_type": "execute_result"
    }
   ],
   "source": [
    "# test key connection\n",
    "client.key_info()"
   ]
  },
  {
   "cell_type": "code",
   "execution_count": 3,
   "id": "58a63d73-5fe7-4c85-a397-d7cf8a50654a",
   "metadata": {
    "execution": {
     "iopub.execute_input": "2025-04-22T01:14:09.394417Z",
     "iopub.status.busy": "2025-04-22T01:14:09.392300Z",
     "iopub.status.idle": "2025-04-22T01:14:11.158751Z",
     "shell.execute_reply": "2025-04-22T01:14:11.155943Z",
     "shell.execute_reply.started": "2025-04-22T01:14:09.394322Z"
    },
    "tags": []
   },
   "outputs": [
    {
     "data": {
      "text/plain": [
       "{'result': {'text': ['The patient has recently been admitted to the hospital with pneumonia and respiratory failure.'],\n",
       "  'entities': [{'entity': 'pneumonia',\n",
       "    'type': 'problem',\n",
       "    'start': 60,\n",
       "    'end': 69,\n",
       "    'mapped': {'concept_id': 'C0155862',\n",
       "     'source': 'ICD9CM',\n",
       "     'term': 'Pneumococcal pneumonia [Streptococcus pneumoniae pneumonia]',\n",
       "     'text': 'pneumonia'},\n",
       "    'line': 0},\n",
       "   {'entity': 'respiratory failure',\n",
       "    'type': 'problem',\n",
       "    'start': 74,\n",
       "    'end': 93,\n",
       "    'mapped': {'concept_id': 'C1145670',\n",
       "     'source': 'MEDLINEPLUS',\n",
       "     'term': 'Respiratory Failure',\n",
       "     'text': 'respiratory failure'},\n",
       "    'line': 0}],\n",
       "  'relations': []},\n",
       " 'token_usage': 15,\n",
       " 'token_remaining': 9953140}"
      ]
     },
     "execution_count": 3,
     "metadata": {},
     "output_type": "execute_result"
    }
   ],
   "source": [
    "# single prediction, for processing single text, replace inside text for your use\n",
    "client.single_prediction(\"Replace the text to your text\")"
   ]
  },
  {
   "cell_type": "code",
   "execution_count": 6,
   "id": "6b0f8f41-70cb-4bdb-9c1e-27e7ab329b98",
   "metadata": {
    "execution": {
     "iopub.execute_input": "2025-04-22T01:14:47.293109Z",
     "iopub.status.busy": "2025-04-22T01:14:47.292360Z",
     "iopub.status.idle": "2025-04-22T01:14:47.346800Z",
     "shell.execute_reply": "2025-04-22T01:14:47.343873Z",
     "shell.execute_reply.started": "2025-04-22T01:14:47.293051Z"
    },
    "tags": []
   },
   "outputs": [
    {
     "data": {
      "text/plain": [
       "{'task_id': 'edb824e5-728d-4764-a17e-e1ad99c45349',\n",
       " 'message': 'Task in queue',\n",
       " 'token_usage': 6664,\n",
       " 'token_remaining': 9933148,\n",
       " 'estimate_time': '00:08:52'}"
      ]
     },
     "execution_count": 6,
     "metadata": {},
     "output_type": "execute_result"
    }
   ],
   "source": [
    "client.batch_prediction(\"replace the text to your file path\")"
   ]
  },
  {
   "cell_type": "code",
   "execution_count": 7,
   "id": "f74256d5-5afc-46e9-a1b1-32e7fff9a9df",
   "metadata": {
    "execution": {
     "iopub.execute_input": "2025-04-22T01:14:59.706031Z",
     "iopub.status.busy": "2025-04-22T01:14:59.705256Z",
     "iopub.status.idle": "2025-04-22T01:14:59.743741Z",
     "shell.execute_reply": "2025-04-22T01:14:59.740796Z",
     "shell.execute_reply.started": "2025-04-22T01:14:59.705973Z"
    },
    "tags": []
   },
   "outputs": [
    {
     "data": {
      "text/plain": [
       "{'task_id': 'edb824e5-728d-4764-a17e-e1ad99c45349',\n",
       " 'status': 'queued',\n",
       " 'queue_position': 2,\n",
       " 'remaining_time': '00:08:52'}"
      ]
     },
     "execution_count": 7,
     "metadata": {},
     "output_type": "execute_result"
    }
   ],
   "source": [
    "client.task_status(\"replace the text to task_id get from above function\")"
   ]
  },
  {
   "cell_type": "code",
   "execution_count": 16,
   "id": "4bcff0aa-2281-4edc-98ed-2e1126c5a92b",
   "metadata": {
    "execution": {
     "iopub.execute_input": "2025-04-22T01:12:48.933712Z",
     "iopub.status.busy": "2025-04-22T01:12:48.932926Z",
     "iopub.status.idle": "2025-04-22T01:12:49.906598Z",
     "shell.execute_reply": "2025-04-22T01:12:49.903867Z",
     "shell.execute_reply.started": "2025-04-22T01:12:48.933652Z"
    },
    "tags": []
   },
   "outputs": [
    {
     "data": {
      "text/plain": [
       "{'status': 'success', 'message': 'File downloaded to results.json'}"
      ]
     },
     "execution_count": 16,
     "metadata": {},
     "output_type": "execute_result"
    }
   ],
   "source": [
    "client.download_task(\"replace the text to task_id\", \"output path\", \"file type\")"
   ]
  },
  {
   "cell_type": "code",
   "execution_count": 8,
   "id": "ece434a1-87d5-4721-a90a-029a951fa047",
   "metadata": {
    "execution": {
     "iopub.execute_input": "2025-04-22T01:15:07.222213Z",
     "iopub.status.busy": "2025-04-22T01:15:07.221447Z",
     "iopub.status.idle": "2025-04-22T01:15:07.258091Z",
     "shell.execute_reply": "2025-04-22T01:15:07.255117Z",
     "shell.execute_reply.started": "2025-04-22T01:15:07.222149Z"
    },
    "tags": []
   },
   "outputs": [
    {
     "data": {
      "text/plain": [
       "{'tasks': [{'task_id': '69065885-16bb-4304-82de-993497a05977',\n",
       "   'status': 'completed'},\n",
       "  {'task_id': '26f62f73-5767-4239-94b6-186142074736', 'status': 'processing'},\n",
       "  {'task_id': '17500005-cb91-45a4-b173-f54c6c804f48', 'status': 'queued'},\n",
       "  {'task_id': 'edb824e5-728d-4764-a17e-e1ad99c45349', 'status': 'queued'}]}"
      ]
     },
     "execution_count": 8,
     "metadata": {},
     "output_type": "execute_result"
    }
   ],
   "source": [
    "client.incomplete_tasks()"
   ]
  },
  {
   "cell_type": "code",
   "execution_count": 9,
   "id": "e571d41d-8eab-40ea-b2bd-5bb4b2440600",
   "metadata": {
    "execution": {
     "iopub.execute_input": "2025-04-22T01:15:16.803906Z",
     "iopub.status.busy": "2025-04-22T01:15:16.802971Z",
     "iopub.status.idle": "2025-04-22T01:15:16.841952Z",
     "shell.execute_reply": "2025-04-22T01:15:16.839447Z",
     "shell.execute_reply.started": "2025-04-22T01:15:16.803849Z"
    }
   },
   "outputs": [
    {
     "data": {
      "text/plain": [
       "{'task_id': '17500005-cb91-45a4-b173-f54c6c804f48', 'message': 'Task canceled'}"
      ]
     },
     "execution_count": 9,
     "metadata": {},
     "output_type": "execute_result"
    }
   ],
   "source": [
    "client.cancel_task(\"replace the text to task id\")"
   ]
  },
  {
   "cell_type": "code",
   "execution_count": null,
   "id": "0f0c8074-87de-45e4-82c9-e1f9732bba38",
   "metadata": {},
   "outputs": [],
   "source": []
  }
 ],
 "metadata": {
  "kernelspec": {
   "display_name": "Python 3 (ipykernel)",
   "language": "python",
   "name": "python3"
  },
  "language_info": {
   "codemirror_mode": {
    "name": "ipython",
    "version": 3
   },
   "file_extension": ".py",
   "mimetype": "text/x-python",
   "name": "python",
   "nbconvert_exporter": "python",
   "pygments_lexer": "ipython3",
   "version": "3.10.14"
  }
 },
 "nbformat": 4,
 "nbformat_minor": 5
}
